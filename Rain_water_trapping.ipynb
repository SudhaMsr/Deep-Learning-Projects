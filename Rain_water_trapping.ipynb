{
  "nbformat": 4,
  "nbformat_minor": 0,
  "metadata": {
    "colab": {
      "provenance": []
    },
    "kernelspec": {
      "name": "python3",
      "display_name": "Python 3"
    },
    "language_info": {
      "name": "python"
    }
  },
  "cells": [
    {
      "cell_type": "markdown",
      "source": [
        "Rain water trapping"
      ],
      "metadata": {
        "id": "zqvcTX1lpzmy"
      }
    },
    {
      "cell_type": "markdown",
      "source": [],
      "metadata": {
        "id": "lO3oqmTRp8x-"
      }
    },
    {
      "cell_type": "code",
      "execution_count": null,
      "metadata": {
        "colab": {
          "base_uri": "https://localhost:8080/"
        },
        "id": "X3ILp4y68X-h",
        "outputId": "459d0d88-e5d1-4410-d23b-ddfa1cf7255a"
      },
      "outputs": [
        {
          "output_type": "stream",
          "name": "stdout",
          "text": [
            "2\n"
          ]
        }
      ],
      "source": [
        "def maxWater(arr, n):\n",
        "    # Initialize a variable to store the maximum water\n",
        "    res = 0\n",
        "\n",
        "    # Iterate over each element of the array\n",
        "    for i in range(1, n - 1):\n",
        "        # Initialize variables to store the maximum heights on left and right sides\n",
        "        left = arr[i]\n",
        "        right = arr[i]\n",
        "\n",
        "        # Iterate to find the maximum height on the left side of the current element\n",
        "        for j in range(i):\n",
        "            left = max(left, arr[j])\n",
        "\n",
        "        # Iterate to find the maximum height on the right side of the current element\n",
        "        for j in range(i + 1, n):\n",
        "            right = max(right, arr[j])\n",
        "\n",
        "        # Update the maximum water by adding the difference between the minimum of left and right heights\n",
        "        # and the height of the current element\n",
        "        res = res + (min(left, right) - arr[i])\n",
        "\n",
        "    return res\n",
        "\n",
        "# Example usage:\n",
        "arr = [2, 0,2]\n",
        "n = len(arr)\n",
        "print(maxWater(arr, n))\n"
      ]
    },
    {
      "cell_type": "markdown",
      "source": [],
      "metadata": {
        "id": "x9y1bWilpwTs"
      }
    },
    {
      "cell_type": "code",
      "source": [
        "def max_water_storage(arr):\n",
        "    # Initialize arrays to store the maximum heights on left and right sides for each element\n",
        "    n = len(arr)\n",
        "    left_max = [0] * n\n",
        "    right_max = [0] * n\n",
        "    water_stored = 0\n",
        "\n",
        "    # Pre-calculate the maximum height on the left side for each index\n",
        "    max_left = 0\n",
        "    for i in range(n):\n",
        "        left_max[i] = max_left\n",
        "        max_left = max(max_left, arr[i])\n",
        "\n",
        "    # Pre-calculate the maximum height on the right side for each index\n",
        "    max_right = 0\n",
        "    for i in range(n-1, -1, -1):\n",
        "        right_max[i] = max_right\n",
        "        max_right = max(max_right, arr[i])\n",
        "\n",
        "    # Calculate the amount of water stored above each bar\n",
        "    for i in range(n):\n",
        "        water_stored += max(0, min(left_max[i], right_max[i]) - arr[i])\n",
        "\n",
        "    return water_stored\n",
        "\n",
        "# Example usage:\n",
        "arr = [3, 0, 2, 0, 4]\n",
        "print(\"Total amount of water stored:\", max_water_storage(arr))\n"
      ],
      "metadata": {
        "id": "woEF0D9z9nor",
        "colab": {
          "base_uri": "https://localhost:8080/"
        },
        "outputId": "eabaca8f-4173-4279-d3f6-8744a5885e4a"
      },
      "execution_count": null,
      "outputs": [
        {
          "output_type": "stream",
          "name": "stdout",
          "text": [
            "Total amount of water stored: 7\n"
          ]
        }
      ]
    },
    {
      "cell_type": "code",
      "source": [],
      "metadata": {
        "id": "dCrjxetHo3bJ"
      },
      "execution_count": null,
      "outputs": []
    }
  ]
}