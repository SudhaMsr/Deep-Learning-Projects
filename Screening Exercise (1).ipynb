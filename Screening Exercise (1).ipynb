{
 "cells": [
  {
   "cell_type": "markdown",
   "id": "0ec1e85e-e6e4-4392-904f-ac01fd0dca94",
   "metadata": {},
   "source": [
    "# Oxford Data Plan Screening Exercise: Revenue Prediction"
   ]
  },
  {
   "cell_type": "markdown",
   "id": "8beaf509-1bbb-457b-bc33-1c195ab7ff04",
   "metadata": {},
   "source": [
    "### This notebook addresses the task of predicting the quarterly `revenue_index` for ABC-Retail using provided datasets: `order_numbers`, `transaction_data`, and `reported_data`. The goal is to train a model on data up to 2022 Q3 and predict the revenue_index for 2022 Q4, reporting in-sample R-squared and out-of-sample percentage error. The approach involves data cleaning, feature engineering, and a simple linear regression model to avoid overfitting given the small dataset (19 training observations)."
   ]
  },
  {
   "cell_type": "markdown",
   "id": "f647503a-3853-4b08-a580-2e6160348610",
   "metadata": {},
   "source": [
    "## Loading Data"
   ]
  },
  {
   "cell_type": "code",
   "execution_count": 1,
   "id": "d35d9b9a-1a5c-4ea2-8d1d-29cf9a16f878",
   "metadata": {},
   "outputs": [],
   "source": [
    "# libraries\n",
    "import pandas as pd\n",
    "import numpy as np\n",
    "import matplotlib.pyplot as plt\n",
    "import seaborn as sns"
   ]
  },
  {
   "cell_type": "code",
   "execution_count": 2,
   "id": "7552731c-557a-41b1-ab8e-ad1ec86d8d2c",
   "metadata": {},
   "outputs": [],
   "source": [
    "## Load the uploaded Excel file (all sheets)\n",
    "\n",
    "df_all = pd.read_excel('data_task.xlsx', sheet_name=None)\n",
    "\n",
    "# Extracting each sheet into individual DataFrames\n",
    "order_numbers_df = df_all.get('order_numbers')\n",
    "transaction_data_df = df_all.get('transaction_data')\n",
    "reported_data_df = df_all.get('reported_data')"
   ]
  },
  {
   "cell_type": "markdown",
   "id": "07ac180e-8b65-40b1-85b6-ad60dc69841e",
   "metadata": {},
   "source": [
    " -     head(): This function returns the first 5 rows\n",
    " - It is useful for quickly testing if your object has the right type of data in it"
   ]
  },
  {
   "cell_type": "code",
   "execution_count": 3,
   "id": "ca59375a-a5be-497d-8dfb-877328070145",
   "metadata": {},
   "outputs": [
    {
     "data": {
      "text/html": [
       "<div>\n",
       "<style scoped>\n",
       "    .dataframe tbody tr th:only-of-type {\n",
       "        vertical-align: middle;\n",
       "    }\n",
       "\n",
       "    .dataframe tbody tr th {\n",
       "        vertical-align: top;\n",
       "    }\n",
       "\n",
       "    .dataframe thead th {\n",
       "        text-align: right;\n",
       "    }\n",
       "</style>\n",
       "<table border=\"1\" class=\"dataframe\">\n",
       "  <thead>\n",
       "    <tr style=\"text-align: right;\">\n",
       "      <th></th>\n",
       "      <th>date</th>\n",
       "      <th>order_number</th>\n",
       "    </tr>\n",
       "  </thead>\n",
       "  <tbody>\n",
       "    <tr>\n",
       "      <th>0</th>\n",
       "      <td>2018-01-07</td>\n",
       "      <td>33841906</td>\n",
       "    </tr>\n",
       "    <tr>\n",
       "      <th>1</th>\n",
       "      <td>2018-01-22</td>\n",
       "      <td>34008921</td>\n",
       "    </tr>\n",
       "    <tr>\n",
       "      <th>2</th>\n",
       "      <td>2018-01-25</td>\n",
       "      <td>34397468</td>\n",
       "    </tr>\n",
       "    <tr>\n",
       "      <th>3</th>\n",
       "      <td>2018-02-06</td>\n",
       "      <td>34434432</td>\n",
       "    </tr>\n",
       "    <tr>\n",
       "      <th>4</th>\n",
       "      <td>2018-02-08</td>\n",
       "      <td>34579365</td>\n",
       "    </tr>\n",
       "  </tbody>\n",
       "</table>\n",
       "</div>"
      ],
      "text/plain": [
       "        date  order_number\n",
       "0 2018-01-07      33841906\n",
       "1 2018-01-22      34008921\n",
       "2 2018-01-25      34397468\n",
       "3 2018-02-06      34434432\n",
       "4 2018-02-08      34579365"
      ]
     },
     "execution_count": 3,
     "metadata": {},
     "output_type": "execute_result"
    }
   ],
   "source": [
    "order_numbers_df.head()  #from order numbers sheet"
   ]
  },
  {
   "cell_type": "code",
   "execution_count": 4,
   "id": "0663fa41-cad0-439e-aedf-95781d0e7d83",
   "metadata": {},
   "outputs": [
    {
     "data": {
      "text/html": [
       "<div>\n",
       "<style scoped>\n",
       "    .dataframe tbody tr th:only-of-type {\n",
       "        vertical-align: middle;\n",
       "    }\n",
       "\n",
       "    .dataframe tbody tr th {\n",
       "        vertical-align: top;\n",
       "    }\n",
       "\n",
       "    .dataframe thead th {\n",
       "        text-align: right;\n",
       "    }\n",
       "</style>\n",
       "<table border=\"1\" class=\"dataframe\">\n",
       "  <thead>\n",
       "    <tr style=\"text-align: right;\">\n",
       "      <th></th>\n",
       "      <th>date</th>\n",
       "      <th>total_spend_index</th>\n",
       "      <th>gross_orders_index</th>\n",
       "      <th>weekly_active_users_index</th>\n",
       "    </tr>\n",
       "  </thead>\n",
       "  <tbody>\n",
       "    <tr>\n",
       "      <th>0</th>\n",
       "      <td>2018-01-01</td>\n",
       "      <td>0.052537</td>\n",
       "      <td>0.158983</td>\n",
       "      <td>1.563652</td>\n",
       "    </tr>\n",
       "    <tr>\n",
       "      <th>1</th>\n",
       "      <td>2018-01-02</td>\n",
       "      <td>0.839176</td>\n",
       "      <td>1.430843</td>\n",
       "      <td>1.628314</td>\n",
       "    </tr>\n",
       "    <tr>\n",
       "      <th>2</th>\n",
       "      <td>2018-01-03</td>\n",
       "      <td>0.182855</td>\n",
       "      <td>0.476948</td>\n",
       "      <td>1.633740</td>\n",
       "    </tr>\n",
       "    <tr>\n",
       "      <th>3</th>\n",
       "      <td>2018-01-04</td>\n",
       "      <td>2.364675</td>\n",
       "      <td>1.907790</td>\n",
       "      <td>1.657706</td>\n",
       "    </tr>\n",
       "    <tr>\n",
       "      <th>4</th>\n",
       "      <td>2018-01-05</td>\n",
       "      <td>0.687484</td>\n",
       "      <td>1.271860</td>\n",
       "      <td>1.679863</td>\n",
       "    </tr>\n",
       "  </tbody>\n",
       "</table>\n",
       "</div>"
      ],
      "text/plain": [
       "        date  total_spend_index  gross_orders_index  weekly_active_users_index\n",
       "0 2018-01-01           0.052537            0.158983                   1.563652\n",
       "1 2018-01-02           0.839176            1.430843                   1.628314\n",
       "2 2018-01-03           0.182855            0.476948                   1.633740\n",
       "3 2018-01-04           2.364675            1.907790                   1.657706\n",
       "4 2018-01-05           0.687484            1.271860                   1.679863"
      ]
     },
     "execution_count": 4,
     "metadata": {},
     "output_type": "execute_result"
    }
   ],
   "source": [
    "transaction_data_df.head() # from transaction data sheet"
   ]
  },
  {
   "cell_type": "code",
   "execution_count": 5,
   "id": "3c4ae82b-5782-49c9-86d3-e169cb52e4db",
   "metadata": {},
   "outputs": [
    {
     "data": {
      "text/html": [
       "<div>\n",
       "<style scoped>\n",
       "    .dataframe tbody tr th:only-of-type {\n",
       "        vertical-align: middle;\n",
       "    }\n",
       "\n",
       "    .dataframe tbody tr th {\n",
       "        vertical-align: top;\n",
       "    }\n",
       "\n",
       "    .dataframe thead th {\n",
       "        text-align: right;\n",
       "    }\n",
       "</style>\n",
       "<table border=\"1\" class=\"dataframe\">\n",
       "  <thead>\n",
       "    <tr style=\"text-align: right;\">\n",
       "      <th></th>\n",
       "      <th>period</th>\n",
       "      <th>start_date</th>\n",
       "      <th>end_date</th>\n",
       "      <th>revenue_index</th>\n",
       "    </tr>\n",
       "  </thead>\n",
       "  <tbody>\n",
       "    <tr>\n",
       "      <th>0</th>\n",
       "      <td>2018 Q1</td>\n",
       "      <td>2018-01-01</td>\n",
       "      <td>2018-02-28</td>\n",
       "      <td>100.000000</td>\n",
       "    </tr>\n",
       "    <tr>\n",
       "      <th>1</th>\n",
       "      <td>2018 Q2</td>\n",
       "      <td>2018-03-01</td>\n",
       "      <td>2018-06-30</td>\n",
       "      <td>253.521127</td>\n",
       "    </tr>\n",
       "    <tr>\n",
       "      <th>2</th>\n",
       "      <td>2018 Q3</td>\n",
       "      <td>2018-07-01</td>\n",
       "      <td>2018-08-31</td>\n",
       "      <td>139.788732</td>\n",
       "    </tr>\n",
       "    <tr>\n",
       "      <th>3</th>\n",
       "      <td>2018 Q4</td>\n",
       "      <td>2018-09-01</td>\n",
       "      <td>2018-12-31</td>\n",
       "      <td>306.161972</td>\n",
       "    </tr>\n",
       "    <tr>\n",
       "      <th>4</th>\n",
       "      <td>2019 Q1</td>\n",
       "      <td>2019-01-01</td>\n",
       "      <td>2019-02-28</td>\n",
       "      <td>117.693662</td>\n",
       "    </tr>\n",
       "  </tbody>\n",
       "</table>\n",
       "</div>"
      ],
      "text/plain": [
       "    period start_date   end_date  revenue_index\n",
       "0  2018 Q1 2018-01-01 2018-02-28     100.000000\n",
       "1  2018 Q2 2018-03-01 2018-06-30     253.521127\n",
       "2  2018 Q3 2018-07-01 2018-08-31     139.788732\n",
       "3  2018 Q4 2018-09-01 2018-12-31     306.161972\n",
       "4  2019 Q1 2019-01-01 2019-02-28     117.693662"
      ]
     },
     "execution_count": 5,
     "metadata": {},
     "output_type": "execute_result"
    }
   ],
   "source": [
    "reported_data_df.head()  #from reported data sheet"
   ]
  },
  {
   "cell_type": "markdown",
   "id": "37a9f191-b7ae-4591-8889-d7de350b2a94",
   "metadata": {},
   "source": [
    "## Understanding data:\n",
    "Steps to understanding the data\n",
    "\n",
    "1. Brief Exploration of Data\n",
    "2. Data Preparation\n",
    "3. Data preprocessing\n",
    "4. Exploratory Data Analysis (EDA)\n",
    "5. Data Manipulations.. if needed\n",
    "\n",
    "-   Understand the structure, content, and quality of the three datasets to inform preprocessing and feature engineering."
   ]
  },
  {
   "cell_type": "markdown",
   "id": "ae231e45-c2db-4988-ba24-92b5c159552b",
   "metadata": {},
   "source": [
    "## 1. Brief Exploration of Data\n",
    "- Inspect Data Structure: Check column names, data types, and sample rows.\n",
    "- Check for Missing Values: Identify missing data in each DataFrame.\n",
    "- Summary Statistics: Compute basic statistics (e.g., mean, min, max) to understand ranges and distributions."
   ]
  },
  {
   "cell_type": "markdown",
   "id": "e76949f2-a996-4455-8951-0eb1a6970b9a",
   "metadata": {},
   "source": [
    "### A. Order numbers sheet"
   ]
  },
  {
   "cell_type": "code",
   "execution_count": 6,
   "id": "acbba0d7-ea1c-47db-99e6-3bbc6ff49d4d",
   "metadata": {},
   "outputs": [
    {
     "name": "stdout",
     "output_type": "stream",
     "text": [
      "<class 'pandas.core.frame.DataFrame'>\n",
      "RangeIndex: 856 entries, 0 to 855\n",
      "Data columns (total 2 columns):\n",
      " #   Column        Non-Null Count  Dtype         \n",
      "---  ------        --------------  -----         \n",
      " 0   date          856 non-null    datetime64[ns]\n",
      " 1   order_number  856 non-null    int64         \n",
      "dtypes: datetime64[ns](1), int64(1)\n",
      "memory usage: 13.5 KB\n"
     ]
    }
   ],
   "source": [
    "order_numbers_df.info()"
   ]
  },
  {
   "cell_type": "code",
   "execution_count": 7,
   "id": "de5bc86a-851e-4590-a79a-8fa0fcf8ae37",
   "metadata": {},
   "outputs": [
    {
     "data": {
      "text/plain": [
       "date            0\n",
       "order_number    0\n",
       "dtype: int64"
      ]
     },
     "execution_count": 7,
     "metadata": {},
     "output_type": "execute_result"
    }
   ],
   "source": [
    "order_numbers_df.isnull().sum()"
   ]
  },
  {
   "cell_type": "code",
   "execution_count": 8,
   "id": "ebcc8231-1130-4b45-aade-e05f081d4c68",
   "metadata": {},
   "outputs": [
    {
     "data": {
      "text/html": [
       "<div>\n",
       "<style scoped>\n",
       "    .dataframe tbody tr th:only-of-type {\n",
       "        vertical-align: middle;\n",
       "    }\n",
       "\n",
       "    .dataframe tbody tr th {\n",
       "        vertical-align: top;\n",
       "    }\n",
       "\n",
       "    .dataframe thead th {\n",
       "        text-align: right;\n",
       "    }\n",
       "</style>\n",
       "<table border=\"1\" class=\"dataframe\">\n",
       "  <thead>\n",
       "    <tr style=\"text-align: right;\">\n",
       "      <th></th>\n",
       "      <th>date</th>\n",
       "      <th>order_number</th>\n",
       "    </tr>\n",
       "  </thead>\n",
       "  <tbody>\n",
       "    <tr>\n",
       "      <th>count</th>\n",
       "      <td>856</td>\n",
       "      <td>8.560000e+02</td>\n",
       "    </tr>\n",
       "    <tr>\n",
       "      <th>mean</th>\n",
       "      <td>2020-11-03 20:29:43.177570304</td>\n",
       "      <td>6.118115e+07</td>\n",
       "    </tr>\n",
       "    <tr>\n",
       "      <th>min</th>\n",
       "      <td>2018-01-07 00:00:00</td>\n",
       "      <td>8.028800e+04</td>\n",
       "    </tr>\n",
       "    <tr>\n",
       "      <th>25%</th>\n",
       "      <td>2019-10-21 12:00:00</td>\n",
       "      <td>4.816847e+07</td>\n",
       "    </tr>\n",
       "    <tr>\n",
       "      <th>50%</th>\n",
       "      <td>2020-11-27 00:00:00</td>\n",
       "      <td>6.120493e+07</td>\n",
       "    </tr>\n",
       "    <tr>\n",
       "      <th>75%</th>\n",
       "      <td>2021-12-18 06:00:00</td>\n",
       "      <td>7.517348e+07</td>\n",
       "    </tr>\n",
       "    <tr>\n",
       "      <th>max</th>\n",
       "      <td>2022-12-30 00:00:00</td>\n",
       "      <td>8.917258e+07</td>\n",
       "    </tr>\n",
       "    <tr>\n",
       "      <th>std</th>\n",
       "      <td>NaN</td>\n",
       "      <td>1.752091e+07</td>\n",
       "    </tr>\n",
       "  </tbody>\n",
       "</table>\n",
       "</div>"
      ],
      "text/plain": [
       "                                date  order_number\n",
       "count                            856  8.560000e+02\n",
       "mean   2020-11-03 20:29:43.177570304  6.118115e+07\n",
       "min              2018-01-07 00:00:00  8.028800e+04\n",
       "25%              2019-10-21 12:00:00  4.816847e+07\n",
       "50%              2020-11-27 00:00:00  6.120493e+07\n",
       "75%              2021-12-18 06:00:00  7.517348e+07\n",
       "max              2022-12-30 00:00:00  8.917258e+07\n",
       "std                              NaN  1.752091e+07"
      ]
     },
     "execution_count": 8,
     "metadata": {},
     "output_type": "execute_result"
    }
   ],
   "source": [
    "order_numbers_df.describe()"
   ]
  },
  {
   "cell_type": "markdown",
   "id": "68711580-a2d8-48dc-8a5f-ab97dc8e370d",
   "metadata": {},
   "source": [
    "#### Key Insights:\n",
    "1. Order Growth Over Time:\n",
    "\n",
    "   The steadily increasing order_number values suggest it is sequential and cumulative, making it useful for analyzing business growth or order volume trends over time.\n",
    "\n",
    "2. Healthy Data Range:\n",
    "\n",
    "   The distribution shows a good span over 5 years, which allows for long-term trend analysis (seasonality, growth rate, etc.).\n",
    "\n",
    "3. No Missing or Corrupted Data:\n",
    "\n",
    "   Clean and ready for time series or trend-based visualizations.\n",
    "\n"
   ]
  },
  {
   "cell_type": "markdown",
   "id": "29542b2b-9d1e-47a1-ad71-a6a9046022a8",
   "metadata": {},
   "source": [
    "### B. Transaction data sheet"
   ]
  },
  {
   "cell_type": "code",
   "execution_count": 9,
   "id": "b601b425-7d24-4692-97cd-b154d7ab920d",
   "metadata": {},
   "outputs": [
    {
     "name": "stdout",
     "output_type": "stream",
     "text": [
      "<class 'pandas.core.frame.DataFrame'>\n",
      "RangeIndex: 1826 entries, 0 to 1825\n",
      "Data columns (total 4 columns):\n",
      " #   Column                     Non-Null Count  Dtype         \n",
      "---  ------                     --------------  -----         \n",
      " 0   date                       1826 non-null   datetime64[ns]\n",
      " 1   total_spend_index          1826 non-null   float64       \n",
      " 2   gross_orders_index         1826 non-null   float64       \n",
      " 3   weekly_active_users_index  1826 non-null   float64       \n",
      "dtypes: datetime64[ns](1), float64(3)\n",
      "memory usage: 57.2 KB\n",
      "None\n"
     ]
    }
   ],
   "source": [
    "print(transaction_data_df.info())"
   ]
  },
  {
   "cell_type": "code",
   "execution_count": 10,
   "id": "e87dbff5-1e6c-4879-93ab-a2a6d2ce175d",
   "metadata": {},
   "outputs": [
    {
     "name": "stdout",
     "output_type": "stream",
     "text": [
      "\n",
      "Missing Values:\n",
      " date                         0\n",
      "total_spend_index            0\n",
      "gross_orders_index           0\n",
      "weekly_active_users_index    0\n",
      "dtype: int64\n"
     ]
    }
   ],
   "source": [
    "print(\"\\nMissing Values:\\n\", transaction_data_df.isnull().sum())"
   ]
  },
  {
   "cell_type": "code",
   "execution_count": 11,
   "id": "1dfa69a8-be01-4906-a5d0-90ad9269e606",
   "metadata": {},
   "outputs": [
    {
     "data": {
      "text/html": [
       "<div>\n",
       "<style scoped>\n",
       "    .dataframe tbody tr th:only-of-type {\n",
       "        vertical-align: middle;\n",
       "    }\n",
       "\n",
       "    .dataframe tbody tr th {\n",
       "        vertical-align: top;\n",
       "    }\n",
       "\n",
       "    .dataframe thead th {\n",
       "        text-align: right;\n",
       "    }\n",
       "</style>\n",
       "<table border=\"1\" class=\"dataframe\">\n",
       "  <thead>\n",
       "    <tr style=\"text-align: right;\">\n",
       "      <th></th>\n",
       "      <th>date</th>\n",
       "      <th>total_spend_index</th>\n",
       "      <th>gross_orders_index</th>\n",
       "      <th>weekly_active_users_index</th>\n",
       "    </tr>\n",
       "  </thead>\n",
       "  <tbody>\n",
       "    <tr>\n",
       "      <th>count</th>\n",
       "      <td>1826</td>\n",
       "      <td>1826.000000</td>\n",
       "      <td>1826.000000</td>\n",
       "      <td>1826.000000</td>\n",
       "    </tr>\n",
       "    <tr>\n",
       "      <th>mean</th>\n",
       "      <td>2020-07-01 12:00:00</td>\n",
       "      <td>114.415785</td>\n",
       "      <td>119.426078</td>\n",
       "      <td>113.916658</td>\n",
       "    </tr>\n",
       "    <tr>\n",
       "      <th>min</th>\n",
       "      <td>2018-01-01 00:00:00</td>\n",
       "      <td>0.000000</td>\n",
       "      <td>0.000000</td>\n",
       "      <td>1.563652</td>\n",
       "    </tr>\n",
       "    <tr>\n",
       "      <th>25%</th>\n",
       "      <td>2019-04-02 06:00:00</td>\n",
       "      <td>15.502885</td>\n",
       "      <td>16.096979</td>\n",
       "      <td>28.620862</td>\n",
       "    </tr>\n",
       "    <tr>\n",
       "      <th>50%</th>\n",
       "      <td>2020-07-01 12:00:00</td>\n",
       "      <td>63.874947</td>\n",
       "      <td>68.600954</td>\n",
       "      <td>117.443217</td>\n",
       "    </tr>\n",
       "    <tr>\n",
       "      <th>75%</th>\n",
       "      <td>2021-09-30 18:00:00</td>\n",
       "      <td>190.802040</td>\n",
       "      <td>204.093800</td>\n",
       "      <td>196.806339</td>\n",
       "    </tr>\n",
       "    <tr>\n",
       "      <th>max</th>\n",
       "      <td>2022-12-31 00:00:00</td>\n",
       "      <td>1312.774732</td>\n",
       "      <td>1346.263911</td>\n",
       "      <td>237.144188</td>\n",
       "    </tr>\n",
       "    <tr>\n",
       "      <th>std</th>\n",
       "      <td>NaN</td>\n",
       "      <td>130.486414</td>\n",
       "      <td>134.581906</td>\n",
       "      <td>83.514286</td>\n",
       "    </tr>\n",
       "  </tbody>\n",
       "</table>\n",
       "</div>"
      ],
      "text/plain": [
       "                      date  total_spend_index  gross_orders_index  \\\n",
       "count                 1826        1826.000000         1826.000000   \n",
       "mean   2020-07-01 12:00:00         114.415785          119.426078   \n",
       "min    2018-01-01 00:00:00           0.000000            0.000000   \n",
       "25%    2019-04-02 06:00:00          15.502885           16.096979   \n",
       "50%    2020-07-01 12:00:00          63.874947           68.600954   \n",
       "75%    2021-09-30 18:00:00         190.802040          204.093800   \n",
       "max    2022-12-31 00:00:00        1312.774732         1346.263911   \n",
       "std                    NaN         130.486414          134.581906   \n",
       "\n",
       "       weekly_active_users_index  \n",
       "count                1826.000000  \n",
       "mean                  113.916658  \n",
       "min                     1.563652  \n",
       "25%                    28.620862  \n",
       "50%                   117.443217  \n",
       "75%                   196.806339  \n",
       "max                   237.144188  \n",
       "std                    83.514286  "
      ]
     },
     "execution_count": 11,
     "metadata": {},
     "output_type": "execute_result"
    }
   ],
   "source": [
    "transaction_data_df.describe()"
   ]
  },
  {
   "cell_type": "markdown",
   "id": "aefcbae2-689b-4b22-998a-733cbb7456a1",
   "metadata": {},
   "source": [
    "### Key Insights:\n",
    "1. Steady Business Growth:\n",
    "   The maximum values for all three indices (especially total_spend_index at 1312.77 and gross_orders_index at 1346.26) suggest significant growth over time.\n",
    "   Median values are much lower than the max, implying spikes in activity in later periods.\n",
    "\n",
    "2. User Engagement Trends:\n",
    "\n",
    "   weekly_active_users_index ranges from ~1.56 to 237.14, indicating variability in platform usage—possibly due to promotions, seasonality, or market expansion.\n",
    "\n",
    "3. Well-Structured Time Series:\n",
    "\n",
    "   With daily granularity and consistent data, this sheet is ideal for trend analysis, forecasting, or time-series modeling.\n",
    "\n",
    "4. There are no missing values in any of the columns. The dataset is clean and ready for analysis or modeling without requiring imputation or removal of rows.\n",
    "\n",
    "5. All 20 entries are complete across all columns — the dataset is clean and ready for analysis\n"
   ]
  },
  {
   "cell_type": "markdown",
   "id": "141f2965-6a11-4f06-a3b6-263a8c1bd0cb",
   "metadata": {},
   "source": [
    "### C. Report data sheet"
   ]
  },
  {
   "cell_type": "code",
   "execution_count": 12,
   "id": "6c622bfc-ad1f-4f0a-b1b2-3e9b3b5d29db",
   "metadata": {},
   "outputs": [
    {
     "name": "stdout",
     "output_type": "stream",
     "text": [
      "<class 'pandas.core.frame.DataFrame'>\n",
      "RangeIndex: 20 entries, 0 to 19\n",
      "Data columns (total 4 columns):\n",
      " #   Column         Non-Null Count  Dtype         \n",
      "---  ------         --------------  -----         \n",
      " 0   period         20 non-null     object        \n",
      " 1   start_date     20 non-null     datetime64[ns]\n",
      " 2   end_date       20 non-null     datetime64[ns]\n",
      " 3   revenue_index  20 non-null     float64       \n",
      "dtypes: datetime64[ns](2), float64(1), object(1)\n",
      "memory usage: 772.0+ bytes\n",
      "None\n"
     ]
    }
   ],
   "source": [
    "print(reported_data_df.info())"
   ]
  },
  {
   "cell_type": "code",
   "execution_count": 13,
   "id": "4b29b382-8487-4e5d-ae01-814b2aa60603",
   "metadata": {},
   "outputs": [
    {
     "name": "stdout",
     "output_type": "stream",
     "text": [
      "\n",
      "Missing Values:\n",
      " period           0\n",
      "start_date       0\n",
      "end_date         0\n",
      "revenue_index    0\n",
      "dtype: int64\n"
     ]
    }
   ],
   "source": [
    "print(\"\\nMissing Values:\\n\", reported_data_df.isnull().sum())"
   ]
  },
  {
   "cell_type": "code",
   "execution_count": 14,
   "id": "59cab963-90fe-4252-9802-41fffbb9fcb7",
   "metadata": {},
   "outputs": [
    {
     "data": {
      "text/html": [
       "<div>\n",
       "<style scoped>\n",
       "    .dataframe tbody tr th:only-of-type {\n",
       "        vertical-align: middle;\n",
       "    }\n",
       "\n",
       "    .dataframe tbody tr th {\n",
       "        vertical-align: top;\n",
       "    }\n",
       "\n",
       "    .dataframe thead th {\n",
       "        text-align: right;\n",
       "    }\n",
       "</style>\n",
       "<table border=\"1\" class=\"dataframe\">\n",
       "  <thead>\n",
       "    <tr style=\"text-align: right;\">\n",
       "      <th></th>\n",
       "      <th>start_date</th>\n",
       "      <th>end_date</th>\n",
       "      <th>revenue_index</th>\n",
       "    </tr>\n",
       "  </thead>\n",
       "  <tbody>\n",
       "    <tr>\n",
       "      <th>count</th>\n",
       "      <td>20</td>\n",
       "      <td>20</td>\n",
       "      <td>20.000000</td>\n",
       "    </tr>\n",
       "    <tr>\n",
       "      <th>mean</th>\n",
       "      <td>2020-04-29 19:12:00</td>\n",
       "      <td>2020-07-29 02:24:00</td>\n",
       "      <td>291.340869</td>\n",
       "    </tr>\n",
       "    <tr>\n",
       "      <th>min</th>\n",
       "      <td>2018-01-01 00:00:00</td>\n",
       "      <td>2018-02-28 00:00:00</td>\n",
       "      <td>100.000000</td>\n",
       "    </tr>\n",
       "    <tr>\n",
       "      <th>25%</th>\n",
       "      <td>2019-02-14 06:00:00</td>\n",
       "      <td>2019-05-30 12:00:00</td>\n",
       "      <td>201.738556</td>\n",
       "    </tr>\n",
       "    <tr>\n",
       "      <th>50%</th>\n",
       "      <td>2020-05-01 00:00:00</td>\n",
       "      <td>2020-07-31 00:00:00</td>\n",
       "      <td>271.654930</td>\n",
       "    </tr>\n",
       "    <tr>\n",
       "      <th>75%</th>\n",
       "      <td>2021-07-16 12:00:00</td>\n",
       "      <td>2021-09-30 12:00:00</td>\n",
       "      <td>372.243807</td>\n",
       "    </tr>\n",
       "    <tr>\n",
       "      <th>max</th>\n",
       "      <td>2022-09-01 00:00:00</td>\n",
       "      <td>2022-12-31 00:00:00</td>\n",
       "      <td>552.442986</td>\n",
       "    </tr>\n",
       "    <tr>\n",
       "      <th>std</th>\n",
       "      <td>NaN</td>\n",
       "      <td>NaN</td>\n",
       "      <td>136.115147</td>\n",
       "    </tr>\n",
       "  </tbody>\n",
       "</table>\n",
       "</div>"
      ],
      "text/plain": [
       "                start_date             end_date  revenue_index\n",
       "count                   20                   20      20.000000\n",
       "mean   2020-04-29 19:12:00  2020-07-29 02:24:00     291.340869\n",
       "min    2018-01-01 00:00:00  2018-02-28 00:00:00     100.000000\n",
       "25%    2019-02-14 06:00:00  2019-05-30 12:00:00     201.738556\n",
       "50%    2020-05-01 00:00:00  2020-07-31 00:00:00     271.654930\n",
       "75%    2021-07-16 12:00:00  2021-09-30 12:00:00     372.243807\n",
       "max    2022-09-01 00:00:00  2022-12-31 00:00:00     552.442986\n",
       "std                    NaN                  NaN     136.115147"
      ]
     },
     "execution_count": 14,
     "metadata": {},
     "output_type": "execute_result"
    }
   ],
   "source": [
    "reported_data_df.describe()"
   ]
  },
  {
   "cell_type": "markdown",
   "id": "8a189a29-6c86-4d57-b5f0-3f6cb85577ca",
   "metadata": {},
   "source": [
    "### Key Insights:\n",
    "1. Quarterly or Periodic Reporting:\n",
    "   The data likely reflects monthly or quarterly revenue performance over time, from 2018 to 2022.\n",
    "\n",
    "2. Revenue Growth Over Time:\n",
    "\n",
    "   revenue_index shows an increasing trend, starting at 100 and peaking at 552.44, indicating consistent revenue growth.\n",
    "\n",
    "3. High Variability:\n",
    "\n",
    "   With a standard deviation of 136.12, revenue performance shows fluctuations, possibly due to market factors, seasonality, or strategic initiatives"
   ]
  },
  {
   "cell_type": "markdown",
   "id": "90a4ca2c-f709-4ec0-b38a-b9488832b4cf",
   "metadata": {},
   "source": [
    "#### Data Integrity: Verify that order_numbers are strictly increasing and that dates align across datasets."
   ]
  },
  {
   "cell_type": "code",
   "execution_count": 15,
   "id": "a626877c-5893-4e85-a0bf-e681ac1bb01d",
   "metadata": {},
   "outputs": [
    {
     "name": "stdout",
     "output_type": "stream",
     "text": [
      "\n",
      "Non-increasing order numbers (anomalies):\n",
      "           date  order_number  order_diff\n",
      "11  2018-03-22      35482998  -1310484.0\n",
      "15  2018-04-03      35559751  -3033672.0\n",
      "23  2018-05-08      36368212    -16150.0\n",
      "26  2018-05-13      36408976   -192112.0\n",
      "28  2018-05-19      36569135   -174356.0\n",
      "..         ...           ...         ...\n",
      "733 2022-04-17      79208916   -920388.0\n",
      "735 2022-04-21      80010988   -458500.0\n",
      "736 2022-04-22      78270297  -2285474.0\n",
      "739 2022-04-24      11337408 -69249743.0\n",
      "756 2022-06-28      82632637   -355201.0\n",
      "\n",
      "[218 rows x 3 columns]\n",
      "\n",
      "Date Ranges:\n",
      "Order Numbers: 2018-01-07 00:00:00 to 2022-12-30 00:00:00\n",
      "Transaction Data: 2018-01-01 00:00:00 to 2022-12-31 00:00:00\n",
      "Reported Data: 2018-01-01 00:00:00 to 2022-12-31 00:00:00\n"
     ]
    }
   ],
   "source": [
    "# Check for non-increasing order numbers\n",
    "order_numbers_df = order_numbers_df.sort_values('date')\n",
    "order_numbers_df['order_diff'] = order_numbers_df['order_number'].diff()\n",
    "non_increasing = order_numbers_df[order_numbers_df['order_diff'] < 0]\n",
    "print(\"\\nNon-increasing order numbers (anomalies):\\n\", non_increasing)\n",
    "\n",
    "# Check date ranges\n",
    "print(\"\\nDate Ranges:\")\n",
    "print(f\"Order Numbers: {order_numbers_df['date'].min()} to {order_numbers_df['date'].max()}\")\n",
    "print(f\"Transaction Data: {transaction_data_df['date'].min()} to {transaction_data_df['date'].max()}\")\n",
    "print(f\"Reported Data: {reported_data_df['start_date'].min()} to {reported_data_df['end_date'].max()}\")"
   ]
  },
  {
   "cell_type": "code",
   "execution_count": 16,
   "id": "6c2887fd-762d-4def-9253-5e01864e54af",
   "metadata": {},
   "outputs": [
    {
     "data": {
      "image/png": "[encoded data removed]",
      "text/plain": [
       "<Figure size 1200x600 with 1 Axes>"
      ]
     },
     "metadata": {},
     "output_type": "display_data"
    }
   ],
   "source": [
    "import matplotlib.pyplot as plt\n",
    "\n",
    "# Ensure your DataFrame is sorted by date\n",
    "order_numbers_df = order_numbers_df.sort_values('date')\n",
    "\n",
    "# Plot order_number over time\n",
    "plt.figure(figsize=(12, 6))\n",
    "plt.plot(order_numbers_df['date'], order_numbers_df['order_number'], label='Order Number', color='teal')\n",
    "plt.xlabel('Date')\n",
    "plt.ylabel('Order Number')\n",
    "plt.title('Order Number Trend Over Time')\n",
    "plt.grid(True)\n",
    "plt.legend()\n",
    "plt.tight_layout()\n",
    "plt.show()\n"
   ]
  },
  {
   "cell_type": "markdown",
   "id": "e0c03146-1dac-4735-b6ac-626a8058210f",
   "metadata": {},
   "source": [
    "### 1. Check for irregular dates in order_numbers_df (e.g., gaps)"
   ]
  },
  {
   "cell_type": "code",
   "execution_count": 17,
   "id": "1523e953-640c-4469-ab4a-b25806ce5ba9",
   "metadata": {},
   "outputs": [
    {
     "name": "stdout",
     "output_type": "stream",
     "text": [
      "Dates with gaps > 1 day:\n",
      " 1     2018-01-22\n",
      "2     2018-01-25\n",
      "3     2018-02-06\n",
      "4     2018-02-08\n",
      "5     2018-03-05\n",
      "         ...    \n",
      "790   2022-10-12\n",
      "791   2022-10-18\n",
      "792   2022-10-26\n",
      "801   2022-11-05\n",
      "808   2022-11-13\n",
      "Name: date, Length: 395, dtype: datetime64[ns]\n"
     ]
    }
   ],
   "source": [
    "order_dates = pd.to_datetime(order_numbers_df['date'])\n",
    "date_diff = order_dates.sort_values().diff()\n",
    "\n",
    "# Show gaps > 1 day\n",
    "irregular_gaps = order_dates[date_diff > pd.Timedelta(days=1)]\n",
    "print(\"Dates with gaps > 1 day:\\n\", irregular_gaps)\n"
   ]
  },
  {
   "cell_type": "markdown",
   "id": "85c07830-efc8-4597-bde3-64276c977cf9",
   "metadata": {},
   "source": [
    "#### Interpretation:\n",
    "\n",
    "a.  If 1/7/18 and the next date is 1/22/18, then there’s a 15-day gap, meaning irregular sampling.\n",
    "\n",
    "b.  This confirms order_numbers_df is not daily, and likely sparse (event-based logging, not continuous time series)."
   ]
  },
  {
   "cell_type": "markdown",
   "id": "a6a9719b-77c9-4d91-930a-ea9d2c89ec27",
   "metadata": {},
   "source": [
    " ### 2. Check if transaction_data_df covers all days from 1/1/2018 to 12/31/2022\n"
   ]
  },
  {
   "cell_type": "code",
   "execution_count": 18,
   "id": "97c12434-5c22-4bd2-b3cf-58634e51f712",
   "metadata": {},
   "outputs": [
    {
     "name": "stdout",
     "output_type": "stream",
     "text": [
      "Missing Dates in transaction_data_df: 0\n",
      "DatetimeIndex([], dtype='datetime64[ns]', freq='D')\n"
     ]
    }
   ],
   "source": [
    "# Generate full daily date range\n",
    "full_range = pd.date_range(start='2018-01-01', end='2022-12-31')\n",
    "actual_dates = pd.to_datetime(transaction_data_df['date'])\n",
    "\n",
    "missing_dates = full_range.difference(actual_dates)\n",
    "print(f\"Missing Dates in transaction_data_df: {len(missing_dates)}\")\n",
    "print(missing_dates[:10])  # Preview first 10 missing dates"
   ]
  },
  {
   "cell_type": "markdown",
   "id": "2b1041d8-e3b3-4046-a14d-8d743eb35921",
   "metadata": {},
   "source": [
    "#### Interpretation:\n",
    "1. If len(missing_dates) == 0, it’s a complete daily dataset\n",
    "\n",
    "2. Otherwise, it’s missing days — maybe holidays, weekends, or data gaps\n",
    "\n",
    "\n",
    "The transaction_data_df dataset covers every day from 1/1/2018 to 12/31/2022 with no missing dates. There are no gaps, which suggests that data collection or recording was consistent and uninterrupted for the entire period."
   ]
  },
  {
   "cell_type": "markdown",
   "id": "adae5c2c-2675-4f6e-8866-9614b291c72f",
   "metadata": {},
   "source": [
    "### 3. Check if reported_data_df has 20 quarters and if 2022 Q4 is present"
   ]
  },
  {
   "cell_type": "code",
   "execution_count": 19,
   "id": "dc5248cf-34dd-43e2-abce-c0f4fec6d6d7",
   "metadata": {},
   "outputs": [
    {
     "name": "stdout",
     "output_type": "stream",
     "text": [
      "Total Quarters: 20\n",
      "\n",
      "2022 Q4 data:\n",
      "      period start_date   end_date  revenue_index\n",
      "19  2022 Q4 2022-09-01 2022-12-31     512.079789\n"
     ]
    }
   ],
   "source": [
    "# Convert to datetime if not already\n",
    "reported_data_df['start_date'] = pd.to_datetime(reported_data_df['start_date'])\n",
    "reported_data_df['end_date'] = pd.to_datetime(reported_data_df['end_date'])\n",
    "\n",
    "# Count quarters\n",
    "total_quarters = len(reported_data_df)\n",
    "print(f\"Total Quarters: {total_quarters}\")\n",
    "\n",
    "# Check for Q4 2022 (adjusted for correct start date range)\n",
    "q4_2022 = reported_data_df[\n",
    "    (reported_data_df['start_date'] >= '2022-09-01') &  # Adjusted to include 2022 Q4 start date\n",
    "    (reported_data_df['end_date'] <= '2022-12-31')\n",
    "]\n",
    "print(\"\\n2022 Q4 data:\\n\", q4_2022)\n"
   ]
  },
  {
   "cell_type": "markdown",
   "id": "5bc0c2d0-1d4b-4581-9c1e-afef55e9bf7a",
   "metadata": {},
   "source": [
    "#### Interpretation:\n",
    "\n",
    "1. If total_quarters == 20, then the data includes 5 full years (2018–2022)"
   ]
  },
  {
   "cell_type": "code",
   "execution_count": null,
   "id": "ff57e226-4e3d-4494-822c-f7b101d63ccc",
   "metadata": {},
   "outputs": [],
   "source": []
  },
  {
   "cell_type": "markdown",
   "id": "60423830-f76b-467c-b5f3-128d4d83a86e",
   "metadata": {},
   "source": [
    "## 2. Data Preparation"
   ]
  },
  {
   "cell_type": "markdown",
   "id": "10f0a2ed-386d-4acd-9279-a47d366835a3",
   "metadata": {},
   "source": [
    "Clean and preprocess the data to ensure consistency and alignment for modeling."
   ]
  },
  {
   "cell_type": "code",
   "execution_count": 20,
   "id": "a6d6abc5-066d-4e6a-9825-09270342b996",
   "metadata": {},
   "outputs": [
    {
     "name": "stdout",
     "output_type": "stream",
     "text": [
      "\n",
      "Missing Values in Merged Data:\n",
      " period                       0\n",
      "start_date                   0\n",
      "end_date                     0\n",
      "revenue_index                0\n",
      "quarter                      0\n",
      "total_spend_index            0\n",
      "gross_orders_index           0\n",
      "weekly_active_users_index    0\n",
      "order_count                  0\n",
      "dtype: int64\n"
     ]
    }
   ],
   "source": [
    "## Parse dates\n",
    "order_numbers_df['date'] = pd.to_datetime(order_numbers_df['date'], errors='coerce')\n",
    "transaction_data_df['date'] = pd.to_datetime(transaction_data_df['date'], errors='coerce')\n",
    "reported_data_df['start_date'] = pd.to_datetime(reported_data_df['start_date'], errors='coerce')\n",
    "reported_data_df['end_date'] = pd.to_datetime(reported_data_df['end_date'], errors='coerce')\n",
    "\n",
    "# Drop rows with invalid dates\n",
    "order_numbers_df = order_numbers_df.dropna(subset=['date'])\n",
    "transaction_data_df = transaction_data_df.dropna(subset=['date'])\n",
    "reported_data_df = reported_data_df.dropna(subset=['start_date', 'end_date'])\n",
    "\n",
    "## Clean order numbers: Remove non-increasing entries\n",
    "order_numbers_df = order_numbers_df.sort_values('date')\n",
    "order_numbers_df['order_diff'] = order_numbers_df['order_number'].diff()\n",
    "order_numbers_df = order_numbers_df[order_numbers_df['order_diff'] >= 0].dropna()\n",
    "\n",
    "# Estimate order counts\n",
    "order_numbers_df['order_count'] = order_numbers_df['order_diff'].fillna(0)\n",
    "\n",
    "## Aggregate order counts to quarterly\n",
    "order_numbers_df['quarter'] = order_numbers_df['date'].dt.to_period('Q')\n",
    "quarterly_orders = order_numbers_df.groupby('quarter')['order_count'].sum().reset_index()\n",
    "quarterly_orders['quarter'] = quarterly_orders['quarter'].astype(str)\n",
    "\n",
    "# Aggregate transaction data to quarterly\n",
    "transaction_data_df['quarter'] = transaction_data_df['date'].dt.to_period('Q')\n",
    "quarterly_transaction = transaction_data_df.groupby('quarter').agg({\n",
    "    'total_spend_index': 'sum',\n",
    "    'gross_orders_index': 'sum',\n",
    "    'weekly_active_users_index': 'mean'\n",
    "}).reset_index()\n",
    "quarterly_transaction['quarter'] = quarterly_transaction['quarter'].astype(str)\n",
    "\n",
    "## Add quarter to reported data\n",
    "reported_data_df['quarter'] = reported_data_df['start_date'].dt.to_period('Q').astype(str)\n",
    "\n",
    "# Merge datasets\n",
    "merged_data = reported_data_df.merge(quarterly_transaction, on='quarter', how='left')\n",
    "merged_data = merged_data.merge(quarterly_orders, on='quarter', how='left')\n",
    "\n",
    "# Check for missing values post-merge\n",
    "print(\"\\nMissing Values in Merged Data:\\n\", merged_data.isnull().sum())"
   ]
  },
  {
   "cell_type": "markdown",
   "id": "8af1000a-5bf8-4bc2-ae78-85abbb61748d",
   "metadata": {},
   "source": [
    "### Insights:\n",
    "a. Data Consistency:\n",
    "\n",
    "All datasets were successfully aligned on a quarterly basis.\n",
    "\n",
    "The final merged dataset contains no missing values, meaning all relevant information from each dataset is now available for analysis.\n",
    "\n",
    "b. Order Numbers Cleaned:\n",
    "\n",
    "The non-increasing order numbers were removed, ensuring that the dataset now contains only valid order numbers in ascending order.\n",
    "\n",
    "This cleaning step guarantees that the order count estimates are accurate and reflect true increases in order numbers over time.\n",
    "\n",
    "c. Data Aggregation:\n",
    "\n",
    "The transaction data and order numbers were aggregated quarterly, which helps to smooth out daily fluctuations and enables a higher-level analysis of trends over time.\n",
    "\n",
    "The addition of weekly_active_users_index and other metrics from transaction_data_df offers insights into how user activity correlates with orders and revenue.\n",
    "\n",
    "d. Quarterly Data Availability:\n",
    "\n",
    "After the merge, you can easily track how the different metrics (order count, transaction data, and revenue index) change over time by quarter.\n",
    "\n",
    "The dataset is now ready for further analysis, such as trend analysis, anomaly detection, or correlation studies between order numbers, transaction data, and revenue."
   ]
  },
  {
   "cell_type": "code",
   "execution_count": 21,
   "id": "92a3e02d-c74f-4dca-bc03-993c7edcca50",
   "metadata": {},
   "outputs": [
    {
     "data": {
      "text/html": [
       "<div>\n",
       "<style scoped>\n",
       "    .dataframe tbody tr th:only-of-type {\n",
       "        vertical-align: middle;\n",
       "    }\n",
       "\n",
       "    .dataframe tbody tr th {\n",
       "        vertical-align: top;\n",
       "    }\n",
       "\n",
       "    .dataframe thead th {\n",
       "        text-align: right;\n",
       "    }\n",
       "</style>\n",
       "<table border=\"1\" class=\"dataframe\">\n",
       "  <thead>\n",
       "    <tr style=\"text-align: right;\">\n",
       "      <th></th>\n",
       "      <th>period</th>\n",
       "      <th>start_date</th>\n",
       "      <th>end_date</th>\n",
       "      <th>revenue_index</th>\n",
       "      <th>quarter</th>\n",
       "      <th>total_spend_index</th>\n",
       "      <th>gross_orders_index</th>\n",
       "      <th>weekly_active_users_index</th>\n",
       "      <th>order_count</th>\n",
       "    </tr>\n",
       "  </thead>\n",
       "  <tbody>\n",
       "    <tr>\n",
       "      <th>0</th>\n",
       "      <td>2018 Q1</td>\n",
       "      <td>2018-01-01</td>\n",
       "      <td>2018-02-28</td>\n",
       "      <td>100.000000</td>\n",
       "      <td>2018Q1</td>\n",
       "      <td>91.829498</td>\n",
       "      <td>110.810811</td>\n",
       "      <td>2.212380</td>\n",
       "      <td>3074081.0</td>\n",
       "    </tr>\n",
       "    <tr>\n",
       "      <th>1</th>\n",
       "      <td>2018 Q2</td>\n",
       "      <td>2018-03-01</td>\n",
       "      <td>2018-06-30</td>\n",
       "      <td>253.521127</td>\n",
       "      <td>2018Q1</td>\n",
       "      <td>91.829498</td>\n",
       "      <td>110.810811</td>\n",
       "      <td>2.212380</td>\n",
       "      <td>3074081.0</td>\n",
       "    </tr>\n",
       "    <tr>\n",
       "      <th>2</th>\n",
       "      <td>2018 Q3</td>\n",
       "      <td>2018-07-01</td>\n",
       "      <td>2018-08-31</td>\n",
       "      <td>139.788732</td>\n",
       "      <td>2018Q3</td>\n",
       "      <td>833.816717</td>\n",
       "      <td>829.888712</td>\n",
       "      <td>12.989319</td>\n",
       "      <td>1975309.0</td>\n",
       "    </tr>\n",
       "    <tr>\n",
       "      <th>3</th>\n",
       "      <td>2018 Q4</td>\n",
       "      <td>2018-09-01</td>\n",
       "      <td>2018-12-31</td>\n",
       "      <td>306.161972</td>\n",
       "      <td>2018Q3</td>\n",
       "      <td>833.816717</td>\n",
       "      <td>829.888712</td>\n",
       "      <td>12.989319</td>\n",
       "      <td>1975309.0</td>\n",
       "    </tr>\n",
       "    <tr>\n",
       "      <th>4</th>\n",
       "      <td>2019 Q1</td>\n",
       "      <td>2019-01-01</td>\n",
       "      <td>2019-02-28</td>\n",
       "      <td>117.693662</td>\n",
       "      <td>2019Q1</td>\n",
       "      <td>1227.264316</td>\n",
       "      <td>1342.607313</td>\n",
       "      <td>25.002324</td>\n",
       "      <td>2077994.0</td>\n",
       "    </tr>\n",
       "    <tr>\n",
       "      <th>5</th>\n",
       "      <td>2019 Q2</td>\n",
       "      <td>2019-03-01</td>\n",
       "      <td>2019-06-30</td>\n",
       "      <td>294.102113</td>\n",
       "      <td>2019Q1</td>\n",
       "      <td>1227.264316</td>\n",
       "      <td>1342.607313</td>\n",
       "      <td>25.002324</td>\n",
       "      <td>2077994.0</td>\n",
       "    </tr>\n",
       "    <tr>\n",
       "      <th>6</th>\n",
       "      <td>2019 Q3</td>\n",
       "      <td>2019-07-01</td>\n",
       "      <td>2019-08-31</td>\n",
       "      <td>156.514085</td>\n",
       "      <td>2019Q3</td>\n",
       "      <td>2510.687948</td>\n",
       "      <td>2590.143084</td>\n",
       "      <td>41.530273</td>\n",
       "      <td>87221648.0</td>\n",
       "    </tr>\n",
       "    <tr>\n",
       "      <th>7</th>\n",
       "      <td>2019 Q4</td>\n",
       "      <td>2019-09-01</td>\n",
       "      <td>2019-12-31</td>\n",
       "      <td>359.947183</td>\n",
       "      <td>2019Q3</td>\n",
       "      <td>2510.687948</td>\n",
       "      <td>2590.143084</td>\n",
       "      <td>41.530273</td>\n",
       "      <td>87221648.0</td>\n",
       "    </tr>\n",
       "    <tr>\n",
       "      <th>8</th>\n",
       "      <td>2020 Q1</td>\n",
       "      <td>2020-01-01</td>\n",
       "      <td>2020-02-29</td>\n",
       "      <td>148.063380</td>\n",
       "      <td>2020Q1</td>\n",
       "      <td>3885.318159</td>\n",
       "      <td>4641.971383</td>\n",
       "      <td>73.601916</td>\n",
       "      <td>22426077.0</td>\n",
       "    </tr>\n",
       "    <tr>\n",
       "      <th>9</th>\n",
       "      <td>2020 Q2</td>\n",
       "      <td>2020-03-01</td>\n",
       "      <td>2020-06-30</td>\n",
       "      <td>289.788732</td>\n",
       "      <td>2020Q1</td>\n",
       "      <td>3885.318159</td>\n",
       "      <td>4641.971383</td>\n",
       "      <td>73.601916</td>\n",
       "      <td>22426077.0</td>\n",
       "    </tr>\n",
       "    <tr>\n",
       "      <th>10</th>\n",
       "      <td>2020 Q3</td>\n",
       "      <td>2020-07-01</td>\n",
       "      <td>2020-08-31</td>\n",
       "      <td>237.323944</td>\n",
       "      <td>2020Q3</td>\n",
       "      <td>10361.603275</td>\n",
       "      <td>11405.246423</td>\n",
       "      <td>130.651000</td>\n",
       "      <td>37137984.0</td>\n",
       "    </tr>\n",
       "    <tr>\n",
       "      <th>11</th>\n",
       "      <td>2020 Q4</td>\n",
       "      <td>2020-09-01</td>\n",
       "      <td>2020-12-31</td>\n",
       "      <td>487.764085</td>\n",
       "      <td>2020Q3</td>\n",
       "      <td>10361.603275</td>\n",
       "      <td>11405.246423</td>\n",
       "      <td>130.651000</td>\n",
       "      <td>37137984.0</td>\n",
       "    </tr>\n",
       "    <tr>\n",
       "      <th>12</th>\n",
       "      <td>2021 Q1</td>\n",
       "      <td>2021-01-01</td>\n",
       "      <td>2021-02-28</td>\n",
       "      <td>216.813380</td>\n",
       "      <td>2021Q1</td>\n",
       "      <td>13418.609150</td>\n",
       "      <td>15455.166932</td>\n",
       "      <td>161.821607</td>\n",
       "      <td>67776176.0</td>\n",
       "    </tr>\n",
       "    <tr>\n",
       "      <th>13</th>\n",
       "      <td>2021 Q2</td>\n",
       "      <td>2021-03-01</td>\n",
       "      <td>2021-06-30</td>\n",
       "      <td>463.380282</td>\n",
       "      <td>2021Q1</td>\n",
       "      <td>13418.609150</td>\n",
       "      <td>15455.166932</td>\n",
       "      <td>161.821607</td>\n",
       "      <td>67776176.0</td>\n",
       "    </tr>\n",
       "    <tr>\n",
       "      <th>14</th>\n",
       "      <td>2021 Q3</td>\n",
       "      <td>2021-07-01</td>\n",
       "      <td>2021-08-31</td>\n",
       "      <td>236.707746</td>\n",
       "      <td>2021Q3</td>\n",
       "      <td>17963.233267</td>\n",
       "      <td>19536.565978</td>\n",
       "      <td>190.428836</td>\n",
       "      <td>50697998.0</td>\n",
       "    </tr>\n",
       "    <tr>\n",
       "      <th>15</th>\n",
       "      <td>2021 Q4</td>\n",
       "      <td>2021-09-01</td>\n",
       "      <td>2021-12-31</td>\n",
       "      <td>552.442986</td>\n",
       "      <td>2021Q3</td>\n",
       "      <td>17963.233267</td>\n",
       "      <td>19536.565978</td>\n",
       "      <td>190.428836</td>\n",
       "      <td>50697998.0</td>\n",
       "    </tr>\n",
       "    <tr>\n",
       "      <th>16</th>\n",
       "      <td>2022 Q1</td>\n",
       "      <td>2022-01-01</td>\n",
       "      <td>2022-02-28</td>\n",
       "      <td>217.507643</td>\n",
       "      <td>2022Q1</td>\n",
       "      <td>19522.696751</td>\n",
       "      <td>20571.383148</td>\n",
       "      <td>224.782186</td>\n",
       "      <td>555050075.0</td>\n",
       "    </tr>\n",
       "    <tr>\n",
       "      <th>17</th>\n",
       "      <td>2022 Q2</td>\n",
       "      <td>2022-03-01</td>\n",
       "      <td>2022-05-31</td>\n",
       "      <td>409.133678</td>\n",
       "      <td>2022Q1</td>\n",
       "      <td>19522.696751</td>\n",
       "      <td>20571.383148</td>\n",
       "      <td>224.782186</td>\n",
       "      <td>555050075.0</td>\n",
       "    </tr>\n",
       "    <tr>\n",
       "      <th>18</th>\n",
       "      <td>2022 Q3</td>\n",
       "      <td>2022-06-01</td>\n",
       "      <td>2022-08-31</td>\n",
       "      <td>328.082858</td>\n",
       "      <td>2022Q2</td>\n",
       "      <td>25271.063580</td>\n",
       "      <td>23946.740859</td>\n",
       "      <td>232.828093</td>\n",
       "      <td>200426356.0</td>\n",
       "    </tr>\n",
       "    <tr>\n",
       "      <th>19</th>\n",
       "      <td>2022 Q4</td>\n",
       "      <td>2022-09-01</td>\n",
       "      <td>2022-12-31</td>\n",
       "      <td>512.079789</td>\n",
       "      <td>2022Q3</td>\n",
       "      <td>21345.505793</td>\n",
       "      <td>20399.841017</td>\n",
       "      <td>225.505591</td>\n",
       "      <td>3401205.0</td>\n",
       "    </tr>\n",
       "  </tbody>\n",
       "</table>\n",
       "</div>"
      ],
      "text/plain": [
       "     period start_date   end_date  revenue_index quarter  total_spend_index  \\\n",
       "0   2018 Q1 2018-01-01 2018-02-28     100.000000  2018Q1          91.829498   \n",
       "1   2018 Q2 2018-03-01 2018-06-30     253.521127  2018Q1          91.829498   \n",
       "2   2018 Q3 2018-07-01 2018-08-31     139.788732  2018Q3         833.816717   \n",
       "3   2018 Q4 2018-09-01 2018-12-31     306.161972  2018Q3         833.816717   \n",
       "4   2019 Q1 2019-01-01 2019-02-28     117.693662  2019Q1        1227.264316   \n",
       "5   2019 Q2 2019-03-01 2019-06-30     294.102113  2019Q1        1227.264316   \n",
       "6   2019 Q3 2019-07-01 2019-08-31     156.514085  2019Q3        2510.687948   \n",
       "7   2019 Q4 2019-09-01 2019-12-31     359.947183  2019Q3        2510.687948   \n",
       "8   2020 Q1 2020-01-01 2020-02-29     148.063380  2020Q1        3885.318159   \n",
       "9   2020 Q2 2020-03-01 2020-06-30     289.788732  2020Q1        3885.318159   \n",
       "10  2020 Q3 2020-07-01 2020-08-31     237.323944  2020Q3       10361.603275   \n",
       "11  2020 Q4 2020-09-01 2020-12-31     487.764085  2020Q3       10361.603275   \n",
       "12  2021 Q1 2021-01-01 2021-02-28     216.813380  2021Q1       13418.609150   \n",
       "13  2021 Q2 2021-03-01 2021-06-30     463.380282  2021Q1       13418.609150   \n",
       "14  2021 Q3 2021-07-01 2021-08-31     236.707746  2021Q3       17963.233267   \n",
       "15  2021 Q4 2021-09-01 2021-12-31     552.442986  2021Q3       17963.233267   \n",
       "16  2022 Q1 2022-01-01 2022-02-28     217.507643  2022Q1       19522.696751   \n",
       "17  2022 Q2 2022-03-01 2022-05-31     409.133678  2022Q1       19522.696751   \n",
       "18  2022 Q3 2022-06-01 2022-08-31     328.082858  2022Q2       25271.063580   \n",
       "19  2022 Q4 2022-09-01 2022-12-31     512.079789  2022Q3       21345.505793   \n",
       "\n",
       "    gross_orders_index  weekly_active_users_index  order_count  \n",
       "0           110.810811                   2.212380    3074081.0  \n",
       "1           110.810811                   2.212380    3074081.0  \n",
       "2           829.888712                  12.989319    1975309.0  \n",
       "3           829.888712                  12.989319    1975309.0  \n",
       "4          1342.607313                  25.002324    2077994.0  \n",
       "5          1342.607313                  25.002324    2077994.0  \n",
       "6          2590.143084                  41.530273   87221648.0  \n",
       "7          2590.143084                  41.530273   87221648.0  \n",
       "8          4641.971383                  73.601916   22426077.0  \n",
       "9          4641.971383                  73.601916   22426077.0  \n",
       "10        11405.246423                 130.651000   37137984.0  \n",
       "11        11405.246423                 130.651000   37137984.0  \n",
       "12        15455.166932                 161.821607   67776176.0  \n",
       "13        15455.166932                 161.821607   67776176.0  \n",
       "14        19536.565978                 190.428836   50697998.0  \n",
       "15        19536.565978                 190.428836   50697998.0  \n",
       "16        20571.383148                 224.782186  555050075.0  \n",
       "17        20571.383148                 224.782186  555050075.0  \n",
       "18        23946.740859                 232.828093  200426356.0  \n",
       "19        20399.841017                 225.505591    3401205.0  "
      ]
     },
     "execution_count": 21,
     "metadata": {},
     "output_type": "execute_result"
    }
   ],
   "source": [
    "merged_data"
   ]
  },
  {
   "cell_type": "markdown",
   "id": "55f88a50-1a29-465e-9765-be61e1301168",
   "metadata": {},
   "source": [
    "## 4. Exploratory Data Analysis (EDA)"
   ]
  },
  {
   "cell_type": "markdown",
   "id": "9fcc3704-9d85-4bd9-af34-fc56fbf60e88",
   "metadata": {},
   "source": [
    "Visualize and analyze relationships between features and revenue_index to validate feature selection and identify patterns."
   ]
  },
  {
   "cell_type": "code",
   "execution_count": 22,
   "id": "49ce05ac-5d49-4e3b-9753-7ecacc3920b5",
   "metadata": {},
   "outputs": [],
   "source": [
    "# Normalize total_spend_index and gross_orders_index\n",
    "merged_data['norm_total_spend'] = (merged_data['total_spend_index'] - merged_data['total_spend_index'].min()) / (merged_data['total_spend_index'].max() - merged_data['total_spend_index'].min())\n",
    "merged_data['norm_gross_orders'] = (merged_data['gross_orders_index'] - merged_data['gross_orders_index'].min()) / (merged_data['gross_orders_index'].max() - merged_data['gross_orders_index'].min())\n"
   ]
  },
  {
   "cell_type": "code",
   "execution_count": 23,
   "id": "09013375-cd73-4b54-8c16-32aba89d1ac0",
   "metadata": {},
   "outputs": [
    {
     "data": {
      "image/png": "[encoded data removed]",
      "text/plain": [
       "<Figure size 1200x600 with 1 Axes>"
      ]
     },
     "metadata": {},
     "output_type": "display_data"
    }
   ],
   "source": [
    "# Plot normalized features\n",
    "plt.figure(figsize=(12, 6))\n",
    "plt.plot(merged_data['start_date'], merged_data['norm_total_spend'], label='Normalized Total Spend')\n",
    "plt.plot(merged_data['start_date'], merged_data['norm_gross_orders'], label='Normalized Gross Orders')\n",
    "plt.title('Normalized Features Over Time')\n",
    "plt.xlabel('Date')\n",
    "plt.ylabel('Value')\n",
    "plt.legend()\n",
    "plt.show()\n"
   ]
  },
  {
   "cell_type": "code",
   "execution_count": 24,
   "id": "79f989b7-e2d3-4392-97c1-a1663418f606",
   "metadata": {},
   "outputs": [
    {
     "name": "stdout",
     "output_type": "stream",
     "text": [
      "Index(['period', 'start_date', 'end_date', 'revenue_index', 'quarter',\n",
      "       'total_spend_index', 'gross_orders_index', 'weekly_active_users_index',\n",
      "       'order_count', 'norm_total_spend', 'norm_gross_orders'],\n",
      "      dtype='object')\n"
     ]
    }
   ],
   "source": [
    "print(merged_data.columns)\n"
   ]
  },
  {
   "cell_type": "code",
   "execution_count": null,
   "id": "7b02850f-aa34-4fed-91c8-a5a11ebcc9ee",
   "metadata": {},
   "outputs": [],
   "source": []
  },
  {
   "cell_type": "code",
   "execution_count": null,
   "id": "be00fae8-e7cb-4058-b7fd-8ffbf594b096",
   "metadata": {},
   "outputs": [],
   "source": []
  },
  {
   "cell_type": "code",
   "execution_count": 25,
   "id": "39e45140-3ed5-4ed1-ad0a-c364b015f84a",
   "metadata": {},
   "outputs": [
    {
     "data": {
      "image/png": "[encoded data removed]",
      "text/plain": [
       "<Figure size 800x600 with 2 Axes>"
      ]
     },
     "metadata": {},
     "output_type": "display_data"
    },
    {
     "data": {
      "image/png": "[encoded data removed]",
      "text/plain": [
       "<Figure size 600x400 with 1 Axes>"
      ]
     },
     "metadata": {},
     "output_type": "display_data"
    },
    {
     "data": {
      "image/png": "[encoded data removed]",
      "text/plain": [
       "<Figure size 600x400 with 1 Axes>"
      ]
     },
     "metadata": {},
     "output_type": "display_data"
    },
    {
     "data": {
      "image/png": "[encoded data removed]",
      "text/plain": [
       "<Figure size 600x400 with 1 Axes>"
      ]
     },
     "metadata": {},
     "output_type": "display_data"
    },
    {
     "data": {
      "image/png": "[encoded data removed]",
      "text/plain": [
       "<Figure size 600x400 with 1 Axes>"
      ]
     },
     "metadata": {},
     "output_type": "display_data"
    }
   ],
   "source": [
    "import seaborn as sns\n",
    "import matplotlib.pyplot as plt\n",
    "\n",
    "# Define features explicitly (adjust if you added more features earlier)\n",
    "features = ['norm_total_spend', 'norm_gross_orders', 'order_count', 'weekly_active_users_index']\n",
    "\n",
    "# Optional: add more engineered features if you created them earlier\n",
    "if 'avg_order_value' in merged_data.columns:\n",
    "    features.append('avg_order_value')\n",
    "if 'is_Q4' in merged_data.columns:\n",
    "    features.append('is_Q4')\n",
    "if 'norm_order_count' in merged_data.columns:\n",
    "    features.append('norm_order_count')\n",
    "\n",
    "# Correlation matrix\n",
    "corr_matrix = merged_data[features + ['revenue_index']].corr()\n",
    "\n",
    "plt.figure(figsize=(8, 6))\n",
    "sns.heatmap(corr_matrix, annot=True, cmap='coolwarm', fmt='.2f')\n",
    "plt.title('Correlation Matrix')\n",
    "plt.tight_layout()\n",
    "plt.show()\n",
    "\n",
    "# Scatter plots: Revenue Index vs Each Feature\n",
    "for feature in features:\n",
    "    plt.figure(figsize=(6, 4))\n",
    "    plt.scatter(merged_data[feature], merged_data['revenue_index'], alpha=0.7)\n",
    "    plt.title(f'Revenue Index vs {feature}')\n",
    "    plt.xlabel(feature)\n",
    "    plt.ylabel('Revenue Index')\n",
    "    plt.grid(True)\n",
    "    plt.tight_layout()\n",
    "    plt.show()\n"
   ]
  },
  {
   "cell_type": "code",
   "execution_count": 26,
   "id": "4f6ef669-3a12-4a6c-a1c5-9caf0b3c8f87",
   "metadata": {},
   "outputs": [
    {
     "name": "stdout",
     "output_type": "stream",
     "text": [
      "\n",
      "Outliers in Merged Data (based on IQR):\n",
      "\n",
      "total_spend_index: 0 outliers\n",
      "gross_orders_index: 0 outliers\n",
      "weekly_active_users_index: 0 outliers\n",
      "order_count: 3 outliers\n"
     ]
    }
   ],
   "source": [
    "# List of features to check for outliers\n",
    "features = ['total_spend_index', 'gross_orders_index', 'weekly_active_users_index', 'order_count']\n",
    "\n",
    "# Check for outliers based on IQR\n",
    "print(\"\\nOutliers in Merged Data (based on IQR):\\n\")\n",
    "for col in features:\n",
    "    Q1 = merged_data[col].quantile(0.25)\n",
    "    Q3 = merged_data[col].quantile(0.75)\n",
    "    IQR = Q3 - Q1\n",
    "    lower_bound = Q1 - 1.5 * IQR\n",
    "    upper_bound = Q3 + 1.5 * IQR\n",
    "    outliers = merged_data[(merged_data[col] < lower_bound) | (merged_data[col] > upper_bound)]\n",
    "    print(f\"{col}: {len(outliers)} outliers\")\n"
   ]
  },
  {
   "cell_type": "code",
   "execution_count": null,
   "id": "693bbe43-b067-4fea-a969-1a7b4038152a",
   "metadata": {},
   "outputs": [],
   "source": []
  },
  {
   "cell_type": "markdown",
   "id": "8a6c93e4-f1c7-4d80-b427-00d7dab527d7",
   "metadata": {},
   "source": [
    "The IQR is calculated as the difference between the 75th percentile (Q3) and the 25th percentile (Q1), and any value that is below $Q1 - 1.5 \\times \\text{IQR}$ or above $Q3 + 1.5 \\times \\text{IQR}$ is considered an outlier.\n",
    "\n",
    "### Explanation:\n",
    "\n",
    "* **Q1**: The 25th percentile of the data.\n",
    "* **Q3**: The 75th percentile of the data.\n",
    "* **IQR**: The range between Q3 and Q1, representing the interquartile range.\n",
    "* **Outliers**: Any data point that lies below $Q1 - 1.5 \\times \\text{IQR}$ or above $Q3 + 1.5 \\times \\text{IQR}$ is considered an outlier."
   ]
  },
  {
   "cell_type": "code",
   "execution_count": null,
   "id": "ce6bc8a0-9f3b-47b6-803f-edce4f2249f9",
   "metadata": {},
   "outputs": [],
   "source": []
  },
  {
   "cell_type": "markdown",
   "id": "4f4b4765-16f3-46d0-9d17-805a62c89542",
   "metadata": {},
   "source": [
    "## 5. Data Manipulations"
   ]
  },
  {
   "cell_type": "markdown",
   "id": "dcfd437d-7467-4dcf-bfa9-bf037c1e5682",
   "metadata": {},
   "source": [
    "Address any issues identified in EDA, such as outliers or additional feature engineering.\n",
    "\n",
    "1. Outlier Handling: Cap extreme values or exclude problematic quarters if necessary.\n",
    "2. Additional Features: Consider seasonality (e.g., Q4 indicator) if EDA shows patterns.\n",
    "3. Quarter Length Adjustment: If EDA reveals quarter length impacts, normalize sums by days."
   ]
  },
  {
   "cell_type": "code",
   "execution_count": 27,
   "id": "ae508868-18c7-4661-8873-ae4722cb97ec",
   "metadata": {},
   "outputs": [],
   "source": [
    "# Define actual feature columns available in merged_data\n",
    "features = ['total_spend_index', 'gross_orders_index', 'weekly_active_users_index', 'order_count']\n",
    "\n",
    "# Cap outliers at 95th percentile for each column\n",
    "for col in features:\n",
    "    cap = merged_data[col].quantile(0.95)\n",
    "    merged_data[col] = merged_data[col].clip(upper=cap)\n",
    "\n",
    "# Add seasonality feature: Is Q4?\n",
    "merged_data['is_Q4'] = merged_data['quarter'].str.endswith('Q4').astype(int)\n",
    "features.append('is_Q4')\n",
    "\n",
    "# Normalize order count by days in quarter\n",
    "merged_data['days_in_quarter'] = (merged_data['end_date'] - merged_data['start_date']).dt.days + 1\n",
    "merged_data['norm_order_count'] = merged_data['order_count'] / merged_data['days_in_quarter']\n",
    "features.append('norm_order_count')\n",
    "\n",
    "# Prepare training and testing sets\n",
    "train_data = merged_data[merged_data['quarter'] <= '2022Q3']\n",
    "test_data = merged_data[merged_data['quarter'] == '2022Q4']\n",
    "\n",
    "X_train = train_data[features]\n",
    "y_train = train_data['revenue_index']\n",
    "X_test = test_data[features]\n",
    "y_test = test_data['revenue_index']\n"
   ]
  },
  {
   "cell_type": "code",
   "execution_count": null,
   "id": "df174fdb-5489-4471-84b2-86516788aa14",
   "metadata": {},
   "outputs": [],
   "source": []
  },
  {
   "cell_type": "markdown",
   "id": "5945ba07-f8f2-4b2c-86f0-1fa73fabce51",
   "metadata": {},
   "source": [
    "## Modeling & Evaluation:"
   ]
  },
  {
   "cell_type": "code",
   "execution_count": 28,
   "id": "6a50bde6-e134-4179-8770-54994c693606",
   "metadata": {},
   "outputs": [
    {
     "name": "stdout",
     "output_type": "stream",
     "text": [
      "['2018Q1' '2018Q3' '2019Q1' '2019Q3' '2020Q1' '2020Q3' '2021Q1' '2021Q3'\n",
      " '2022Q1' '2022Q2' '2022Q3']\n"
     ]
    }
   ],
   "source": [
    "print(merged_data['quarter'].unique())\n"
   ]
  },
  {
   "cell_type": "code",
   "execution_count": null,
   "id": "5557384a-c410-457b-ad6b-faeffa98ba7c",
   "metadata": {},
   "outputs": [],
   "source": []
  },
  {
   "cell_type": "code",
   "execution_count": null,
   "id": "b244a88c-b838-4773-a82c-c801e5d02333",
   "metadata": {},
   "outputs": [],
   "source": []
  },
  {
   "cell_type": "markdown",
   "id": "927c5ded-037e-40bc-a915-db3ce5d6431b",
   "metadata": {},
   "source": [
    "# What if we consider order number data as a  Unique Transaction ID??"
   ]
  },
  {
   "cell_type": "code",
   "execution_count": null,
   "id": "10613fa6-aa71-40c0-8534-1d084e4e8bbb",
   "metadata": {},
   "outputs": [],
   "source": []
  }
 ],
 "metadata": {
  "kernelspec": {
   "display_name": "Python 3 (ipykernel)",
   "language": "python",
   "name": "python3"
  },
  "language_info": {
   "codemirror_mode": {
    "name": "ipython",
    "version": 3
   },
   "file_extension": ".py",
   "mimetype": "text/x-python",
   "name": "python",
   "nbconvert_exporter": "python",
   "pygments_lexer": "ipython3",
   "version": "3.12.7"
  }
 },
 "nbformat": 4,
 "nbformat_minor": 5
}
